{
  "nbformat": 4,
  "nbformat_minor": 5,
  "metadata": {
    "kernelspec": {
      "display_name": "Python 3",
      "language": "python",
      "name": "python3"
    },
    "language_info": {
      "codemirror_mode": {
        "name": "ipython",
        "version": 3
      },
      "file_extension": ".py",
      "mimetype": "text/x-python",
      "name": "python",
      "nbconvert_exporter": "python",
      "pygments_lexer": "ipython3",
      "version": "3.8.8"
    },
    "colab": {
      "name": "Arrays Baigorria.ipynb",
      "provenance": [],
      "collapsed_sections": [],
      "include_colab_link": true
    }
  },
  "cells": [
    {
      "cell_type": "markdown",
      "metadata": {
        "id": "view-in-github",
        "colab_type": "text"
      },
      "source": [
        "<a href=\"https://colab.research.google.com/github/Datebi/Python-Practice/blob/Datebi-CoderhouseCoursePractice/2.Arrays_Baigorria.ipynb\" target=\"_parent\"><img src=\"https://colab.research.google.com/assets/colab-badge.svg\" alt=\"Open In Colab\"/></a>"
      ]
    },
    {
      "cell_type": "markdown",
      "metadata": {
        "id": "7d965106-70c6-4ba9-9ab4-b4d3ed1a4d6d"
      },
      "source": [
        ">> Consigna: \n",
        "1.Generar un array aleatorio de 100 elementos. \n",
        "2.Calcular la mediana correspondiente.\n",
        "3.Recordar los ejercicios con funciones para cálculo de factorial y suma de serie de la Clase 02. Repetir ambos ejercicios, pero ahora utilizar las nuevas operaciones aprendidas con los ndarrays.\n",
        "4.En este link se provee un archivo con los resultados de la Encuesta de Sueldos de Openqube de Febrero 2020 (https://sueldos.openqube.io/encuesta-sueldos-2020.02/ ), Calcular y comparar media y mediana de los sueldos netos.\n",
        "\n",
        ">>Aspectos a incluir en el entregable:\n",
        "El código debe estar hecho en un notebook y debe estar probado.\n"
      ],
      "id": "7d965106-70c6-4ba9-9ab4-b4d3ed1a4d6d"
    },
    {
      "cell_type": "code",
      "metadata": {
        "colab": {
          "base_uri": "https://localhost:8080/"
        },
        "id": "2060b10c-663d-4f21-aca7-752d27650846",
        "outputId": "1b24145a-759b-4882-ed1c-6b2e96575bf9"
      },
      "source": [
        ">>> 1.\n",
        "\n",
        "import numpy as np\n",
        "import random\n",
        "\n",
        "\n",
        "Npa = np.random.randint(1000,size=(100))\n",
        "Npa"
      ],
      "id": "2060b10c-663d-4f21-aca7-752d27650846",
      "execution_count": null,
      "outputs": [
        {
          "output_type": "execute_result",
          "data": {
            "text/plain": [
              "array([ 57, 403, 756, 292, 948, 601, 225,  68, 651, 981, 226, 428, 767,\n",
              "       798, 913, 174, 806, 594, 268, 882, 978,  74, 896, 645, 498, 461,\n",
              "       371, 275, 615, 992, 856, 498, 653, 631, 421, 360, 335, 705, 829,\n",
              "       660, 426, 440, 827, 568, 832, 766, 409, 134, 393, 856, 763, 761,\n",
              "       339, 308, 928, 444, 293, 828, 532, 903, 496, 945, 464, 696, 175,\n",
              "       901, 553, 788, 137, 358, 489, 159,   6, 570,  47, 969, 433,  70,\n",
              "       600, 818, 740, 881, 172,  23, 975, 820, 700, 496, 768, 676, 883,\n",
              "       451, 869, 805, 575, 699, 748, 457, 399, 934])"
            ]
          },
          "metadata": {},
          "execution_count": 8
        }
      ]
    },
    {
      "cell_type": "code",
      "metadata": {
        "colab": {
          "base_uri": "https://localhost:8080/"
        },
        "id": "9db474d3-c66d-42e4-be88-13e3f992dc31",
        "outputId": "2453d233-e74d-4868-f63a-f0ef84982787"
      },
      "source": [
        ">>> 2.\n",
        "\n",
        "np.median(Npa)"
      ],
      "id": "9db474d3-c66d-42e4-be88-13e3f992dc31",
      "execution_count": null,
      "outputs": [
        {
          "output_type": "execute_result",
          "data": {
            "text/plain": [
              "597.0"
            ]
          },
          "metadata": {},
          "execution_count": 9
        }
      ]
    },
    {
      "cell_type": "code",
      "metadata": {
        "colab": {
          "base_uri": "https://localhost:8080/"
        },
        "id": "dd2fedfc-d937-4497-b0e4-0124c68fbe97",
        "outputId": "32dd40c8-4cc4-4a71-c7d1-ccdb42b11008"
      },
      "source": [
        ">>> 3.\n",
        "\n",
        "from scipy.special import factorial\n",
        "import numpy as np\n",
        "\n",
        "array = np.array([[6,1,3],[2,4,1]])\n",
        "\n",
        "print(factorial(array))"
      ],
      "id": "dd2fedfc-d937-4497-b0e4-0124c68fbe97",
      "execution_count": null,
      "outputs": [
        {
          "output_type": "stream",
          "name": "stdout",
          "text": [
            "[[720.   1.   6.]\n",
            " [  2.  24.   1.]]\n"
          ]
        }
      ]
    },
    {
      "cell_type": "code",
      "metadata": {
        "colab": {
          "base_uri": "https://localhost:8080/"
        },
        "id": "c6bfbe42-3a8e-4564-b506-e728efd4fd69",
        "outputId": "fce584df-35bf-42da-9daf-9603e190d067"
      },
      "source": [
        ">>> 4.\n",
        "\n",
        "import numpy as np\n",
        "\n",
        "array = np.array([1,4])\n",
        "suma=1\n",
        "\n",
        "\n",
        "for i in range(array[0],array[1]):\n",
        "    suma += array[0]+i\n",
        "print(suma)\n"
      ],
      "id": "c6bfbe42-3a8e-4564-b506-e728efd4fd69",
      "execution_count": null,
      "outputs": [
        {
          "output_type": "stream",
          "name": "stdout",
          "text": [
            "10\n"
          ]
        }
      ]
    },
    {
      "cell_type": "code",
      "metadata": {
        "colab": {
          "base_uri": "https://localhost:8080/"
        },
        "id": "a37bad7b-81a5-4947-bba8-64560c935949",
        "outputId": "b31485d1-5f53-47f8-f463-35851989dc09"
      },
      "source": [
        ">>> 5. \n",
        "\n",
        "import numpy as np\n",
        "import csv\n",
        "\n",
        "\n",
        "\n",
        "filename = 'Salarios Openqube.csv'\n",
        "raw_data = open(filename)\n",
        "data = np.genfromtxt(raw_data, skip_header = 1, dtype=float, usecols=np.arange(0,1))\n",
        "print(data.shape)\n",
        "print(data)\n"
      ],
      "id": "a37bad7b-81a5-4947-bba8-64560c935949",
      "execution_count": null,
      "outputs": [
        {
          "output_type": "stream",
          "name": "stdout",
          "text": [
            "(6198,)\n",
            "[4.30e+04 6.30e+04 1.27e+05 ...      nan 7.20e+01 6.50e+04]\n"
          ]
        }
      ]
    },
    {
      "cell_type": "markdown",
      "metadata": {
        "id": "wDe_3wTgxbfc"
      },
      "source": [
        "# Sección nueva"
      ],
      "id": "wDe_3wTgxbfc"
    },
    {
      "cell_type": "code",
      "metadata": {
        "id": "b250cd01-d81d-4803-a9da-7473fb5ed45c",
        "colab": {
          "base_uri": "https://localhost:8080/"
        },
        "outputId": "2d377049-bdba-4408-9034-1e516c8842c2"
      },
      "source": [
        "import numpy\n",
        "\n",
        "\n",
        "data = data[numpy.logical_not(numpy.isnan(data))]\n",
        "np.average(data)"
      ],
      "id": "b250cd01-d81d-4803-a9da-7473fb5ed45c",
      "execution_count": null,
      "outputs": [
        {
          "output_type": "execute_result",
          "data": {
            "text/plain": [
              "19362252.577376597"
            ]
          },
          "metadata": {},
          "execution_count": 32
        }
      ]
    },
    {
      "cell_type": "code",
      "metadata": {
        "id": "ece58a46-1d42-424b-8ea4-ac8d3ec413ac",
        "colab": {
          "base_uri": "https://localhost:8080/"
        },
        "outputId": "76cb76c9-8312-4521-d619-7f619c854fa6"
      },
      "source": [
        "np.median(data)"
      ],
      "id": "ece58a46-1d42-424b-8ea4-ac8d3ec413ac",
      "execution_count": null,
      "outputs": [
        {
          "output_type": "execute_result",
          "data": {
            "text/plain": [
              "76000.0"
            ]
          },
          "metadata": {},
          "execution_count": 33
        }
      ]
    }
  ]
}