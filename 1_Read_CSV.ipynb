{
  "nbformat": 4,
  "nbformat_minor": 0,
  "metadata": {
    "colab": {
      "name": "1. Read_CSV.ipynb",
      "provenance": [],
      "collapsed_sections": [],
      "include_colab_link": true
    },
    "kernelspec": {
      "name": "python3",
      "display_name": "Python 3"
    },
    "language_info": {
      "name": "python"
    }
  },
  "cells": [
    {
      "cell_type": "markdown",
      "metadata": {
        "id": "view-in-github",
        "colab_type": "text"
      },
      "source": [
        "<a href=\"https://colab.research.google.com/github/Datebi/Python-Practice/blob/Datebi-capt-1/1_Read_CSV.ipynb\" target=\"_parent\"><img src=\"https://colab.research.google.com/assets/colab-badge.svg\" alt=\"Open In Colab\"/></a>"
      ]
    },
    {
      "cell_type": "markdown",
      "source": [
        "#  We are going to read and sum the amount in each row in a CSV file with different methods taught in the book \"Big Data con Python\" by Rafael Caballero, Enrique Martin and Adrian Riesco."
      ],
      "metadata": {
        "id": "cUVHA3sCSlMf"
      }
    },
    {
      "cell_type": "code",
      "source": [
        "#We import the required libraries\n",
        "import csv"
      ],
      "metadata": {
        "id": "kOS9XWXOXvWV"
      },
      "execution_count": null,
      "outputs": []
    },
    {
      "cell_type": "code",
      "source": [
        "#Reader Method\n",
        "with open('subvenciones.csv', encoding = 'latin1') as fichero_csv:\n",
        "  lector = csv.reader(fichero_csv)\n",
        "  a=next(lector) #Skips the header\n",
        "  total_amount = 0\n",
        "  for row in lector:\n",
        "    amount_str = row[2]\n",
        "    amount = float(amount_str)\n",
        "    total_amount = total_amount + amount\n",
        "  print(total_amount)\n",
        "  "
      ],
      "metadata": {
        "colab": {
          "base_uri": "https://localhost:8080/"
        },
        "id": "mFcAUI2oTK7C",
        "outputId": "1fe14332-616f-43bd-f4be-edaf37eea8b2"
      },
      "execution_count": null,
      "outputs": [
        {
          "output_type": "stream",
          "name": "stdout",
          "text": [
            "66487.94\n"
          ]
        }
      ]
    },
    {
      "cell_type": "code",
      "source": [
        "#We try DictReader method, it seem to be a more intuitive way of reading a csv file accodring to the author. \n",
        "#The reason: We are going to asociate a center with its total amount.\n",
        "\n",
        "with open('subvenciones.csv', encoding = 'latin1') as fichero_csv:\n",
        "  dict_reader = csv.DictReader(fichero_csv)\n",
        "  asocs={}\n",
        "  for row in dict_reader:\n",
        "    center = row['Asociación']\n",
        "    subsidy = float(row['Importe'])\n",
        "    if center in asocs:\n",
        "      asocs[center] = asocs[center] + subsidy\n",
        "    else:\n",
        "      asocs[center] = subsidy\n",
        "  print(asocs)\n",
        "\n",
        "  #The first time you run it, the empty dictionary asocs has no values assigned, so it enters at the 'else' statement\n",
        "  #meaning that the first value will be assigned at asoc[center] = subsidy, completing the dictionary with all the asociations and summarizing its subsides"
      ],
      "metadata": {
        "colab": {
          "base_uri": "https://localhost:8080/"
        },
        "id": "Ul_xEtMvccMf",
        "outputId": "3da77494-bac6-4c73-8fb2-4555d5238270"
      },
      "execution_count": null,
      "outputs": [
        {
          "output_type": "stream",
          "name": "stdout",
          "text": [
            "{'AMPA ANTONIO MACHADO': 2344.99, 'AMPA BACHILLER ALONSO LOPEZ': 3200.0, 'AMPA CASTILLA': 2604.44, 'AMPA DAOIZ Y VELARDE': 3152.74, 'AMPA EMILIO CASADO': 3015.67, 'AMPA FEDERICO GARCIA LORCA': 1919.06, 'AMPA GABRIEL Y GALAN': 2741.51, 'AMPA LUIS BUÑUEL': 2081.0, 'AMPA MIGUEL HERNANDEZ': 2923.35, 'AMPA MIRAFLORES': 2787.21, 'AMPA PARQUE CATALUÑA': 2604.44, 'AMPA PROFESOR TIERNO GALVÁN': 1286.0, 'AMPA SEIS DE DICIEMBRE': 1950.0, 'AMPA VALDEPALITOS': 3929.5, 'AMPA LA CHOPERA': 1430.0, 'AMPA EL CUQUILLO': 1507.83, 'AMPA VALDELAPARRA': 2465.0, 'AMPA RIVENDEL': 2200.0, 'AMPA AGORA': 2421.67, 'AMPA ALDEBARAN': 3107.05, 'AMPA GINER DE LOS RIOS': 2058.0, 'AMPA SEVERO OCHOA': 3563.9700000000003, 'AMPA VIRGEN DE LA PAZ': 1416.45, 'AMPA JUAN XXIII': 1781.98, 'AMPA SAN ANTONIO': 2101.83, 'AMPA PADRE  MANYANET': 2695.82, 'AMPA FAPA': 3198.43}\n"
          ]
        }
      ]
    }
  ]
}