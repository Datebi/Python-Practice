{
  "nbformat": 4,
  "nbformat_minor": 0,
  "metadata": {
    "colab": {
      "name": "1. Read_CSV.ipynb",
      "provenance": [],
      "collapsed_sections": [],
      "include_colab_link": true
    },
    "kernelspec": {
      "name": "python3",
      "display_name": "Python 3"
    },
    "language_info": {
      "name": "python"
    }
  },
  "cells": [
    {
      "cell_type": "markdown",
      "metadata": {
        "id": "view-in-github",
        "colab_type": "text"
      },
      "source": [
        "<a href=\"https://colab.research.google.com/github/Datebi/Python-Practice/blob/Datebi-capt-1/1_Read_CSV.ipynb\" target=\"_parent\"><img src=\"https://colab.research.google.com/assets/colab-badge.svg\" alt=\"Open In Colab\"/></a>"
      ]
    },
    {
      "cell_type": "markdown",
      "source": [
        "#  We are going to read and sum the amount in each row in a CSV file with different methods taught in the book \"Big Data con Python\" by Rafael Caballero, Enrique Martin and Adrian Riesco."
      ],
      "metadata": {
        "id": "cUVHA3sCSlMf"
      }
    },
    {
      "cell_type": "code",
      "source": [
        "#We import the required libraries\n",
        "import csv\n",
        "import pandas as pd\n"
      ],
      "metadata": {
        "id": "kOS9XWXOXvWV"
      },
      "execution_count": null,
      "outputs": []
    },
    {
      "cell_type": "code",
      "source": [
        "#Simple Method without operations\n",
        "df = pd.read_csv('subvenciones.csv',encoding = 'latin1')\n",
        "df.head()"
      ],
      "metadata": {
        "colab": {
          "base_uri": "https://localhost:8080/",
          "height": 206
        },
        "id": "nwfBVmX148V2",
        "outputId": "ee5da2a9-489a-4615-9c88-5889cb22e7d9"
      },
      "execution_count": null,
      "outputs": [
        {
          "output_type": "execute_result",
          "data": {
            "text/html": [
              "\n",
              "  <div id=\"df-41255852-bff0-49f1-94a5-94203cf0c383\">\n",
              "    <div class=\"colab-df-container\">\n",
              "      <div>\n",
              "<style scoped>\n",
              "    .dataframe tbody tr th:only-of-type {\n",
              "        vertical-align: middle;\n",
              "    }\n",
              "\n",
              "    .dataframe tbody tr th {\n",
              "        vertical-align: top;\n",
              "    }\n",
              "\n",
              "    .dataframe thead th {\n",
              "        text-align: right;\n",
              "    }\n",
              "</style>\n",
              "<table border=\"1\" class=\"dataframe\">\n",
              "  <thead>\n",
              "    <tr style=\"text-align: right;\">\n",
              "      <th></th>\n",
              "      <th>Asociación</th>\n",
              "      <th>Actividad Subvencionada</th>\n",
              "      <th>Importe</th>\n",
              "    </tr>\n",
              "  </thead>\n",
              "  <tbody>\n",
              "    <tr>\n",
              "      <th>0</th>\n",
              "      <td>AMPA ANTONIO MACHADO</td>\n",
              "      <td>TALLER FIESTA DE CARNAVAL</td>\n",
              "      <td>94.56</td>\n",
              "    </tr>\n",
              "    <tr>\n",
              "      <th>1</th>\n",
              "      <td>AMPA ANTONIO MACHADO</td>\n",
              "      <td>TALLER DIA DEL PADRE</td>\n",
              "      <td>39.04</td>\n",
              "    </tr>\n",
              "    <tr>\n",
              "      <th>2</th>\n",
              "      <td>AMPA ANTONIO MACHADO</td>\n",
              "      <td>TALLER DIA DE LA MADRE</td>\n",
              "      <td>43.64</td>\n",
              "    </tr>\n",
              "    <tr>\n",
              "      <th>3</th>\n",
              "      <td>AMPA ANTONIO MACHADO</td>\n",
              "      <td>FIESTA FIN DE CURSO</td>\n",
              "      <td>921.00</td>\n",
              "    </tr>\n",
              "    <tr>\n",
              "      <th>4</th>\n",
              "      <td>AMPA ANTONIO MACHADO</td>\n",
              "      <td>CONCURSO LOGOTIPO AMPA</td>\n",
              "      <td>56.57</td>\n",
              "    </tr>\n",
              "  </tbody>\n",
              "</table>\n",
              "</div>\n",
              "      <button class=\"colab-df-convert\" onclick=\"convertToInteractive('df-41255852-bff0-49f1-94a5-94203cf0c383')\"\n",
              "              title=\"Convert this dataframe to an interactive table.\"\n",
              "              style=\"display:none;\">\n",
              "        \n",
              "  <svg xmlns=\"http://www.w3.org/2000/svg\" height=\"24px\"viewBox=\"0 0 24 24\"\n",
              "       width=\"24px\">\n",
              "    <path d=\"M0 0h24v24H0V0z\" fill=\"none\"/>\n",
              "    <path d=\"M18.56 5.44l.94 2.06.94-2.06 2.06-.94-2.06-.94-.94-2.06-.94 2.06-2.06.94zm-11 1L8.5 8.5l.94-2.06 2.06-.94-2.06-.94L8.5 2.5l-.94 2.06-2.06.94zm10 10l.94 2.06.94-2.06 2.06-.94-2.06-.94-.94-2.06-.94 2.06-2.06.94z\"/><path d=\"M17.41 7.96l-1.37-1.37c-.4-.4-.92-.59-1.43-.59-.52 0-1.04.2-1.43.59L10.3 9.45l-7.72 7.72c-.78.78-.78 2.05 0 2.83L4 21.41c.39.39.9.59 1.41.59.51 0 1.02-.2 1.41-.59l7.78-7.78 2.81-2.81c.8-.78.8-2.07 0-2.86zM5.41 20L4 18.59l7.72-7.72 1.47 1.35L5.41 20z\"/>\n",
              "  </svg>\n",
              "      </button>\n",
              "      \n",
              "  <style>\n",
              "    .colab-df-container {\n",
              "      display:flex;\n",
              "      flex-wrap:wrap;\n",
              "      gap: 12px;\n",
              "    }\n",
              "\n",
              "    .colab-df-convert {\n",
              "      background-color: #E8F0FE;\n",
              "      border: none;\n",
              "      border-radius: 50%;\n",
              "      cursor: pointer;\n",
              "      display: none;\n",
              "      fill: #1967D2;\n",
              "      height: 32px;\n",
              "      padding: 0 0 0 0;\n",
              "      width: 32px;\n",
              "    }\n",
              "\n",
              "    .colab-df-convert:hover {\n",
              "      background-color: #E2EBFA;\n",
              "      box-shadow: 0px 1px 2px rgba(60, 64, 67, 0.3), 0px 1px 3px 1px rgba(60, 64, 67, 0.15);\n",
              "      fill: #174EA6;\n",
              "    }\n",
              "\n",
              "    [theme=dark] .colab-df-convert {\n",
              "      background-color: #3B4455;\n",
              "      fill: #D2E3FC;\n",
              "    }\n",
              "\n",
              "    [theme=dark] .colab-df-convert:hover {\n",
              "      background-color: #434B5C;\n",
              "      box-shadow: 0px 1px 3px 1px rgba(0, 0, 0, 0.15);\n",
              "      filter: drop-shadow(0px 1px 2px rgba(0, 0, 0, 0.3));\n",
              "      fill: #FFFFFF;\n",
              "    }\n",
              "  </style>\n",
              "\n",
              "      <script>\n",
              "        const buttonEl =\n",
              "          document.querySelector('#df-41255852-bff0-49f1-94a5-94203cf0c383 button.colab-df-convert');\n",
              "        buttonEl.style.display =\n",
              "          google.colab.kernel.accessAllowed ? 'block' : 'none';\n",
              "\n",
              "        async function convertToInteractive(key) {\n",
              "          const element = document.querySelector('#df-41255852-bff0-49f1-94a5-94203cf0c383');\n",
              "          const dataTable =\n",
              "            await google.colab.kernel.invokeFunction('convertToInteractive',\n",
              "                                                     [key], {});\n",
              "          if (!dataTable) return;\n",
              "\n",
              "          const docLinkHtml = 'Like what you see? Visit the ' +\n",
              "            '<a target=\"_blank\" href=https://colab.research.google.com/notebooks/data_table.ipynb>data table notebook</a>'\n",
              "            + ' to learn more about interactive tables.';\n",
              "          element.innerHTML = '';\n",
              "          dataTable['output_type'] = 'display_data';\n",
              "          await google.colab.output.renderOutput(dataTable, element);\n",
              "          const docLink = document.createElement('div');\n",
              "          docLink.innerHTML = docLinkHtml;\n",
              "          element.appendChild(docLink);\n",
              "        }\n",
              "      </script>\n",
              "    </div>\n",
              "  </div>\n",
              "  "
            ],
            "text/plain": [
              "             Asociación   Actividad Subvencionada   Importe\n",
              "0  AMPA ANTONIO MACHADO  TALLER FIESTA DE CARNAVAL    94.56\n",
              "1  AMPA ANTONIO MACHADO       TALLER DIA DEL PADRE    39.04\n",
              "2  AMPA ANTONIO MACHADO     TALLER DIA DE LA MADRE    43.64\n",
              "3  AMPA ANTONIO MACHADO        FIESTA FIN DE CURSO   921.00\n",
              "4  AMPA ANTONIO MACHADO     CONCURSO LOGOTIPO AMPA    56.57"
            ]
          },
          "metadata": {},
          "execution_count": 8
        }
      ]
    },
    {
      "cell_type": "code",
      "source": [
        "#With the reader Method we are going to iterate the df and get a total sum of the \"importe\" column.\n",
        "with open('subvenciones.csv', encoding = 'latin1') as fichero_csv:\n",
        "  lector = csv.reader(fichero_csv)\n",
        "  a=next(lector) #Skips the header\n",
        "  total_amount = 0\n",
        "  for row in lector:\n",
        "    amount_str = row[2]\n",
        "    amount = float(amount_str)\n",
        "    total_amount = total_amount + amount\n",
        "  print(total_amount)\n",
        "  "
      ],
      "metadata": {
        "colab": {
          "base_uri": "https://localhost:8080/"
        },
        "id": "mFcAUI2oTK7C",
        "outputId": "1fe14332-616f-43bd-f4be-edaf37eea8b2"
      },
      "execution_count": null,
      "outputs": [
        {
          "output_type": "stream",
          "name": "stdout",
          "text": [
            "66487.94\n"
          ]
        }
      ]
    },
    {
      "cell_type": "code",
      "source": [
        "#We try DictReader method, it seem to be a more intuitive way of reading a csv file accodring to the author. \n",
        "#The reason: We are going to asociate a center with its total amount.\n",
        "\n",
        "with open('subvenciones.csv', encoding = 'latin1') as fichero_csv:\n",
        "  dict_reader = csv.DictReader(fichero_csv)\n",
        "  asocs={}\n",
        "  for row in dict_reader:\n",
        "    center = row['Asociación']\n",
        "    subsidy = float(row['Importe'])\n",
        "    if center in asocs:\n",
        "      asocs[center] = asocs[center] + subsidy\n",
        "    else:\n",
        "      asocs[center] = subsidy\n",
        "  print(asocs)\n",
        "\n",
        "  #The first time you run it, the empty dictionary asocs has no values assigned, so it enters at the 'else' statement\n",
        "  #meaning that the first value will be assigned at asoc[center] = subsidy, completing the dictionary with all the asociations and summarizing its subsides"
      ],
      "metadata": {
        "colab": {
          "base_uri": "https://localhost:8080/"
        },
        "id": "Ul_xEtMvccMf",
        "outputId": "3da77494-bac6-4c73-8fb2-4555d5238270"
      },
      "execution_count": null,
      "outputs": [
        {
          "output_type": "stream",
          "name": "stdout",
          "text": [
            "{'AMPA ANTONIO MACHADO': 2344.99, 'AMPA BACHILLER ALONSO LOPEZ': 3200.0, 'AMPA CASTILLA': 2604.44, 'AMPA DAOIZ Y VELARDE': 3152.74, 'AMPA EMILIO CASADO': 3015.67, 'AMPA FEDERICO GARCIA LORCA': 1919.06, 'AMPA GABRIEL Y GALAN': 2741.51, 'AMPA LUIS BUÑUEL': 2081.0, 'AMPA MIGUEL HERNANDEZ': 2923.35, 'AMPA MIRAFLORES': 2787.21, 'AMPA PARQUE CATALUÑA': 2604.44, 'AMPA PROFESOR TIERNO GALVÁN': 1286.0, 'AMPA SEIS DE DICIEMBRE': 1950.0, 'AMPA VALDEPALITOS': 3929.5, 'AMPA LA CHOPERA': 1430.0, 'AMPA EL CUQUILLO': 1507.83, 'AMPA VALDELAPARRA': 2465.0, 'AMPA RIVENDEL': 2200.0, 'AMPA AGORA': 2421.67, 'AMPA ALDEBARAN': 3107.05, 'AMPA GINER DE LOS RIOS': 2058.0, 'AMPA SEVERO OCHOA': 3563.9700000000003, 'AMPA VIRGEN DE LA PAZ': 1416.45, 'AMPA JUAN XXIII': 1781.98, 'AMPA SAN ANTONIO': 2101.83, 'AMPA PADRE  MANYANET': 2695.82, 'AMPA FAPA': 3198.43}\n"
          ]
        }
      ]
    }
  ]
}