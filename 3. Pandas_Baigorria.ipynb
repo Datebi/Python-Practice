{
  "nbformat": 4,
  "nbformat_minor": 0,
  "metadata": {
    "colab": {
      "name": "Pandas Baigorria.ipynb",
      "provenance": [],
      "collapsed_sections": [],
      "include_colab_link": true
    },
    "kernelspec": {
      "name": "python3",
      "display_name": "Python 3"
    },
    "language_info": {
      "name": "python"
    }
  },
  "cells": [
    {
      "cell_type": "markdown",
      "metadata": {
        "id": "view-in-github",
        "colab_type": "text"
      },
      "source": [
        "<a href=\"https://colab.research.google.com/github/Datebi/Python-Practice/blob/Datebi-CoderhouseCoursePractice/3.%20Pandas_Baigorria.ipynb\" target=\"_parent\"><img src=\"https://colab.research.google.com/assets/colab-badge.svg\" alt=\"Open In Colab\"/></a>"
      ]
    },
    {
      "cell_type": "markdown",
      "metadata": {
        "id": "Tl7j74x6rIOy"
      },
      "source": [
        ">> Consigna: \n",
        "Con este archivo,\n",
        "\n",
        "1.-Construir un objeto de series de tiempo con el índice igual al año de los juegos olímpicos\n",
        "\n",
        "2.-Separar nombres de apellidos en dos columnas distintas usando la coma como separador\n",
        "\n",
        "3.-Obtener medidas resumen del conjunto de datos. Cuál es el país que ganó más medallas?\n",
        "\n",
        "4.-Construir una tabla que muestre cuántas medallas obtuvieron los hombres en total en cada año que se realizó el evento.\n",
        "\n",
        ">>Aspectos a incluir en el entregable:\n",
        "El código debe estar hecho en un notebook y debe estar probado.\n"
      ]
    },
    {
      "cell_type": "code",
      "metadata": {
        "colab": {
          "base_uri": "https://localhost:8080/"
        },
        "id": "5QhBzQBbrcv6",
        "outputId": "eb524d61-007a-49de-9959-75517be57337"
      },
      "source": [
        "#0. Importo el archivo con el que voy a trabajar\n",
        "\n",
        "import pandas as pd\n",
        "\n",
        "df_tarea_baigorria = pd.read_csv('Summer-Olympic-medals-1976-to-2008.csv' , encoding='latin-1')\n",
        "\n",
        "print(df_tarea_baigorria)"
      ],
      "execution_count": null,
      "outputs": [
        {
          "output_type": "stream",
          "name": "stdout",
          "text": [
            "           City    Year      Sport  ...        Country Event_gender   Medal\n",
            "0      Montreal  1976.0   Aquatics  ...   East Germany            W  Silver\n",
            "1      Montreal  1976.0   Aquatics  ...   Soviet Union            M  Bronze\n",
            "2      Montreal  1976.0   Aquatics  ...  United States            M    Gold\n",
            "3      Montreal  1976.0   Aquatics  ...          Italy            M  Silver\n",
            "4      Montreal  1976.0   Aquatics  ...  United States            W  Bronze\n",
            "...         ...     ...        ...  ...            ...          ...     ...\n",
            "15428   Beijing  2008.0  Wrestling  ...         France            M  Bronze\n",
            "15429   Beijing  2008.0  Wrestling  ...        Georgia            M    Gold\n",
            "15430   Beijing  2008.0  Wrestling  ...     Azerbaijan            M  Silver\n",
            "15431   Beijing  2008.0  Wrestling  ...         France            M    Gold\n",
            "15432   Beijing  2008.0  Wrestling  ...           Cuba            M    Gold\n",
            "\n",
            "[15433 rows x 11 columns]\n"
          ]
        }
      ]
    },
    {
      "cell_type": "code",
      "metadata": {
        "colab": {
          "base_uri": "https://localhost:8080/"
        },
        "id": "FXNAKmd8NXoC",
        "outputId": "311190ec-2124-4372-bb2e-9e0828b33c7b"
      },
      "source": [
        "#1. \n",
        "\n",
        "series_tiempo_orig = df_tarea_baigorria['Year']\n",
        "series_tiempo_orig = pd.to_datetime(series_tiempo_orig, format = '%Y')\n",
        "series_tiempo_orig\n",
        "\n",
        "\n",
        "#No me gusta que me de el dia y el mes ademas del año, esta bien eso? "
      ],
      "execution_count": null,
      "outputs": [
        {
          "output_type": "execute_result",
          "data": {
            "text/plain": [
              "0       1976-01-01\n",
              "1       1976-01-01\n",
              "2       1976-01-01\n",
              "3       1976-01-01\n",
              "4       1976-01-01\n",
              "           ...    \n",
              "15428   2008-01-01\n",
              "15429   2008-01-01\n",
              "15430   2008-01-01\n",
              "15431   2008-01-01\n",
              "15432   2008-01-01\n",
              "Name: Year, Length: 15433, dtype: datetime64[ns]"
            ]
          },
          "metadata": {},
          "execution_count": 19
        }
      ]
    },
    {
      "cell_type": "code",
      "metadata": {
        "id": "e67ay1MN2gNB"
      },
      "source": [
        ""
      ],
      "execution_count": null,
      "outputs": []
    },
    {
      "cell_type": "code",
      "metadata": {
        "colab": {
          "base_uri": "https://localhost:8080/",
          "height": 419
        },
        "id": "xmeFjh1P1R1G",
        "outputId": "66a5b467-86e4-408c-a636-7b49acfcbacc"
      },
      "source": [
        "#2.Separar nombres de apellidos en dos columnas distintas usando la coma como separador\n",
        "\n",
        "\n",
        "\n",
        "Nombre_atletas = df_tarea_baigorria['Athlete']\n",
        "Nombre_atletas.str.split(\",\", expand = True )\n",
        "\n"
      ],
      "execution_count": null,
      "outputs": [
        {
          "output_type": "execute_result",
          "data": {
            "text/html": [
              "<div>\n",
              "<style scoped>\n",
              "    .dataframe tbody tr th:only-of-type {\n",
              "        vertical-align: middle;\n",
              "    }\n",
              "\n",
              "    .dataframe tbody tr th {\n",
              "        vertical-align: top;\n",
              "    }\n",
              "\n",
              "    .dataframe thead th {\n",
              "        text-align: right;\n",
              "    }\n",
              "</style>\n",
              "<table border=\"1\" class=\"dataframe\">\n",
              "  <thead>\n",
              "    <tr style=\"text-align: right;\">\n",
              "      <th></th>\n",
              "      <th>0</th>\n",
              "      <th>1</th>\n",
              "      <th>2</th>\n",
              "    </tr>\n",
              "  </thead>\n",
              "  <tbody>\n",
              "    <tr>\n",
              "      <th>0</th>\n",
              "      <td>KÖHLER</td>\n",
              "      <td>Christa</td>\n",
              "      <td>None</td>\n",
              "    </tr>\n",
              "    <tr>\n",
              "      <th>1</th>\n",
              "      <td>KOSENKOV</td>\n",
              "      <td>Aleksandr</td>\n",
              "      <td>None</td>\n",
              "    </tr>\n",
              "    <tr>\n",
              "      <th>2</th>\n",
              "      <td>BOGGS</td>\n",
              "      <td>Philip George</td>\n",
              "      <td>None</td>\n",
              "    </tr>\n",
              "    <tr>\n",
              "      <th>3</th>\n",
              "      <td>CAGNOTTO</td>\n",
              "      <td>Giorgio Franco</td>\n",
              "      <td>None</td>\n",
              "    </tr>\n",
              "    <tr>\n",
              "      <th>4</th>\n",
              "      <td>WILSON</td>\n",
              "      <td>Deborah Keplar</td>\n",
              "      <td>None</td>\n",
              "    </tr>\n",
              "    <tr>\n",
              "      <th>...</th>\n",
              "      <td>...</td>\n",
              "      <td>...</td>\n",
              "      <td>...</td>\n",
              "    </tr>\n",
              "    <tr>\n",
              "      <th>15428</th>\n",
              "      <td>GUENOT</td>\n",
              "      <td>Christophe</td>\n",
              "      <td>None</td>\n",
              "    </tr>\n",
              "    <tr>\n",
              "      <th>15429</th>\n",
              "      <td>KVIRKELIA</td>\n",
              "      <td>Manuchar</td>\n",
              "      <td>None</td>\n",
              "    </tr>\n",
              "    <tr>\n",
              "      <th>15430</th>\n",
              "      <td>RAHIMOV</td>\n",
              "      <td>Vitaliy</td>\n",
              "      <td>None</td>\n",
              "    </tr>\n",
              "    <tr>\n",
              "      <th>15431</th>\n",
              "      <td>GUENOT</td>\n",
              "      <td>Steeve</td>\n",
              "      <td>None</td>\n",
              "    </tr>\n",
              "    <tr>\n",
              "      <th>15432</th>\n",
              "      <td>LOPEZ</td>\n",
              "      <td>Mijain</td>\n",
              "      <td>None</td>\n",
              "    </tr>\n",
              "  </tbody>\n",
              "</table>\n",
              "<p>15433 rows × 3 columns</p>\n",
              "</div>"
            ],
            "text/plain": [
              "               0                1     2\n",
              "0         KÖHLER          Christa  None\n",
              "1       KOSENKOV        Aleksandr  None\n",
              "2          BOGGS    Philip George  None\n",
              "3       CAGNOTTO   Giorgio Franco  None\n",
              "4         WILSON   Deborah Keplar  None\n",
              "...          ...              ...   ...\n",
              "15428     GUENOT       Christophe  None\n",
              "15429  KVIRKELIA         Manuchar  None\n",
              "15430    RAHIMOV          Vitaliy  None\n",
              "15431     GUENOT           Steeve  None\n",
              "15432      LOPEZ           Mijain  None\n",
              "\n",
              "[15433 rows x 3 columns]"
            ]
          },
          "metadata": {},
          "execution_count": 3
        }
      ]
    },
    {
      "cell_type": "code",
      "metadata": {
        "id": "A8YvIpBg8wvd"
      },
      "source": [
        ""
      ],
      "execution_count": null,
      "outputs": []
    },
    {
      "cell_type": "code",
      "metadata": {
        "colab": {
          "base_uri": "https://localhost:8080/",
          "height": 419
        },
        "id": "tsCb5fg28w1J",
        "outputId": "69dec3b7-4fd2-41f6-9b78-5d98c48db5b9"
      },
      "source": [
        "df_punto2 = pd.concat([df_tarea_baigorria, df_tarea_baigorria['Athlete'].str.split(',', n=1, expand=True)], axis=1)\n",
        "df_punto2.rename({1: 'Nombre', 0: 'Apellido'}, axis=1 , inplace=True)\n",
        "\n",
        "df_punto2"
      ],
      "execution_count": null,
      "outputs": [
        {
          "output_type": "execute_result",
          "data": {
            "text/html": [
              "<div>\n",
              "<style scoped>\n",
              "    .dataframe tbody tr th:only-of-type {\n",
              "        vertical-align: middle;\n",
              "    }\n",
              "\n",
              "    .dataframe tbody tr th {\n",
              "        vertical-align: top;\n",
              "    }\n",
              "\n",
              "    .dataframe thead th {\n",
              "        text-align: right;\n",
              "    }\n",
              "</style>\n",
              "<table border=\"1\" class=\"dataframe\">\n",
              "  <thead>\n",
              "    <tr style=\"text-align: right;\">\n",
              "      <th></th>\n",
              "      <th>City</th>\n",
              "      <th>Year</th>\n",
              "      <th>Sport</th>\n",
              "      <th>Discipline</th>\n",
              "      <th>Event</th>\n",
              "      <th>Athlete</th>\n",
              "      <th>Gender</th>\n",
              "      <th>Country_Code</th>\n",
              "      <th>Country</th>\n",
              "      <th>Event_gender</th>\n",
              "      <th>Medal</th>\n",
              "      <th>Apellido</th>\n",
              "      <th>Nombre</th>\n",
              "    </tr>\n",
              "  </thead>\n",
              "  <tbody>\n",
              "    <tr>\n",
              "      <th>0</th>\n",
              "      <td>Montreal</td>\n",
              "      <td>1976.0</td>\n",
              "      <td>Aquatics</td>\n",
              "      <td>Diving</td>\n",
              "      <td>3m springboard</td>\n",
              "      <td>KÖHLER, Christa</td>\n",
              "      <td>Women</td>\n",
              "      <td>GDR</td>\n",
              "      <td>East Germany</td>\n",
              "      <td>W</td>\n",
              "      <td>Silver</td>\n",
              "      <td>KÖHLER</td>\n",
              "      <td>Christa</td>\n",
              "    </tr>\n",
              "    <tr>\n",
              "      <th>1</th>\n",
              "      <td>Montreal</td>\n",
              "      <td>1976.0</td>\n",
              "      <td>Aquatics</td>\n",
              "      <td>Diving</td>\n",
              "      <td>3m springboard</td>\n",
              "      <td>KOSENKOV, Aleksandr</td>\n",
              "      <td>Men</td>\n",
              "      <td>URS</td>\n",
              "      <td>Soviet Union</td>\n",
              "      <td>M</td>\n",
              "      <td>Bronze</td>\n",
              "      <td>KOSENKOV</td>\n",
              "      <td>Aleksandr</td>\n",
              "    </tr>\n",
              "    <tr>\n",
              "      <th>2</th>\n",
              "      <td>Montreal</td>\n",
              "      <td>1976.0</td>\n",
              "      <td>Aquatics</td>\n",
              "      <td>Diving</td>\n",
              "      <td>3m springboard</td>\n",
              "      <td>BOGGS, Philip George</td>\n",
              "      <td>Men</td>\n",
              "      <td>USA</td>\n",
              "      <td>United States</td>\n",
              "      <td>M</td>\n",
              "      <td>Gold</td>\n",
              "      <td>BOGGS</td>\n",
              "      <td>Philip George</td>\n",
              "    </tr>\n",
              "    <tr>\n",
              "      <th>3</th>\n",
              "      <td>Montreal</td>\n",
              "      <td>1976.0</td>\n",
              "      <td>Aquatics</td>\n",
              "      <td>Diving</td>\n",
              "      <td>3m springboard</td>\n",
              "      <td>CAGNOTTO, Giorgio Franco</td>\n",
              "      <td>Men</td>\n",
              "      <td>ITA</td>\n",
              "      <td>Italy</td>\n",
              "      <td>M</td>\n",
              "      <td>Silver</td>\n",
              "      <td>CAGNOTTO</td>\n",
              "      <td>Giorgio Franco</td>\n",
              "    </tr>\n",
              "    <tr>\n",
              "      <th>4</th>\n",
              "      <td>Montreal</td>\n",
              "      <td>1976.0</td>\n",
              "      <td>Aquatics</td>\n",
              "      <td>Diving</td>\n",
              "      <td>10m platform</td>\n",
              "      <td>WILSON, Deborah Keplar</td>\n",
              "      <td>Women</td>\n",
              "      <td>USA</td>\n",
              "      <td>United States</td>\n",
              "      <td>W</td>\n",
              "      <td>Bronze</td>\n",
              "      <td>WILSON</td>\n",
              "      <td>Deborah Keplar</td>\n",
              "    </tr>\n",
              "    <tr>\n",
              "      <th>...</th>\n",
              "      <td>...</td>\n",
              "      <td>...</td>\n",
              "      <td>...</td>\n",
              "      <td>...</td>\n",
              "      <td>...</td>\n",
              "      <td>...</td>\n",
              "      <td>...</td>\n",
              "      <td>...</td>\n",
              "      <td>...</td>\n",
              "      <td>...</td>\n",
              "      <td>...</td>\n",
              "      <td>...</td>\n",
              "      <td>...</td>\n",
              "    </tr>\n",
              "    <tr>\n",
              "      <th>15428</th>\n",
              "      <td>Beijing</td>\n",
              "      <td>2008.0</td>\n",
              "      <td>Wrestling</td>\n",
              "      <td>Wrestling Gre-R</td>\n",
              "      <td>66 - 74kg</td>\n",
              "      <td>GUENOT, Christophe</td>\n",
              "      <td>Men</td>\n",
              "      <td>FRA</td>\n",
              "      <td>France</td>\n",
              "      <td>M</td>\n",
              "      <td>Bronze</td>\n",
              "      <td>GUENOT</td>\n",
              "      <td>Christophe</td>\n",
              "    </tr>\n",
              "    <tr>\n",
              "      <th>15429</th>\n",
              "      <td>Beijing</td>\n",
              "      <td>2008.0</td>\n",
              "      <td>Wrestling</td>\n",
              "      <td>Wrestling Gre-R</td>\n",
              "      <td>66 - 74kg</td>\n",
              "      <td>KVIRKELIA, Manuchar</td>\n",
              "      <td>Men</td>\n",
              "      <td>GEO</td>\n",
              "      <td>Georgia</td>\n",
              "      <td>M</td>\n",
              "      <td>Gold</td>\n",
              "      <td>KVIRKELIA</td>\n",
              "      <td>Manuchar</td>\n",
              "    </tr>\n",
              "    <tr>\n",
              "      <th>15430</th>\n",
              "      <td>Beijing</td>\n",
              "      <td>2008.0</td>\n",
              "      <td>Wrestling</td>\n",
              "      <td>Wrestling Gre-R</td>\n",
              "      <td>55 - 60kg</td>\n",
              "      <td>RAHIMOV, Vitaliy</td>\n",
              "      <td>Men</td>\n",
              "      <td>AZE</td>\n",
              "      <td>Azerbaijan</td>\n",
              "      <td>M</td>\n",
              "      <td>Silver</td>\n",
              "      <td>RAHIMOV</td>\n",
              "      <td>Vitaliy</td>\n",
              "    </tr>\n",
              "    <tr>\n",
              "      <th>15431</th>\n",
              "      <td>Beijing</td>\n",
              "      <td>2008.0</td>\n",
              "      <td>Wrestling</td>\n",
              "      <td>Wrestling Gre-R</td>\n",
              "      <td>60 - 66kg</td>\n",
              "      <td>GUENOT, Steeve</td>\n",
              "      <td>Men</td>\n",
              "      <td>FRA</td>\n",
              "      <td>France</td>\n",
              "      <td>M</td>\n",
              "      <td>Gold</td>\n",
              "      <td>GUENOT</td>\n",
              "      <td>Steeve</td>\n",
              "    </tr>\n",
              "    <tr>\n",
              "      <th>15432</th>\n",
              "      <td>Beijing</td>\n",
              "      <td>2008.0</td>\n",
              "      <td>Wrestling</td>\n",
              "      <td>Wrestling Gre-R</td>\n",
              "      <td>96 - 120kg</td>\n",
              "      <td>LOPEZ, Mijain</td>\n",
              "      <td>Men</td>\n",
              "      <td>CUB</td>\n",
              "      <td>Cuba</td>\n",
              "      <td>M</td>\n",
              "      <td>Gold</td>\n",
              "      <td>LOPEZ</td>\n",
              "      <td>Mijain</td>\n",
              "    </tr>\n",
              "  </tbody>\n",
              "</table>\n",
              "<p>15433 rows × 13 columns</p>\n",
              "</div>"
            ],
            "text/plain": [
              "           City    Year      Sport  ...   Medal   Apellido           Nombre\n",
              "0      Montreal  1976.0   Aquatics  ...  Silver     KÖHLER          Christa\n",
              "1      Montreal  1976.0   Aquatics  ...  Bronze   KOSENKOV        Aleksandr\n",
              "2      Montreal  1976.0   Aquatics  ...    Gold      BOGGS    Philip George\n",
              "3      Montreal  1976.0   Aquatics  ...  Silver   CAGNOTTO   Giorgio Franco\n",
              "4      Montreal  1976.0   Aquatics  ...  Bronze     WILSON   Deborah Keplar\n",
              "...         ...     ...        ...  ...     ...        ...              ...\n",
              "15428   Beijing  2008.0  Wrestling  ...  Bronze     GUENOT       Christophe\n",
              "15429   Beijing  2008.0  Wrestling  ...    Gold  KVIRKELIA         Manuchar\n",
              "15430   Beijing  2008.0  Wrestling  ...  Silver    RAHIMOV          Vitaliy\n",
              "15431   Beijing  2008.0  Wrestling  ...    Gold     GUENOT           Steeve\n",
              "15432   Beijing  2008.0  Wrestling  ...    Gold      LOPEZ           Mijain\n",
              "\n",
              "[15433 rows x 13 columns]"
            ]
          },
          "metadata": {},
          "execution_count": 23
        }
      ]
    },
    {
      "cell_type": "code",
      "metadata": {
        "colab": {
          "base_uri": "https://localhost:8080/"
        },
        "id": "Z1ETSUV--PXa",
        "outputId": "07e23ed6-7af4-4b6a-9585-c9aabbd3871f"
      },
      "source": [
        "#3.-Obtener medidas resumen del conjunto de datos. Cuál es el país que ganó más medallas?\n",
        "\n",
        "df_punto2['Country'].value_counts().head(20)         "
      ],
      "execution_count": null,
      "outputs": [
        {
          "output_type": "execute_result",
          "data": {
            "text/plain": [
              "United States     1992\n",
              "Soviet Union      1021\n",
              "Australia          798\n",
              "Germany            691\n",
              "China              679\n",
              "Russia             638\n",
              "East Germany       626\n",
              "Italy              486\n",
              "Romania            482\n",
              "United Kingdom     467\n",
              "Korea, South       454\n",
              "France             449\n",
              "Netherlands        428\n",
              "Japan              388\n",
              "Hungary            368\n",
              "Cuba               349\n",
              "West Germany       345\n",
              "Spain              328\n",
              "Brazil             318\n",
              "Canada             304\n",
              "Name: Country, dtype: int64"
            ]
          },
          "metadata": {},
          "execution_count": 24
        }
      ]
    },
    {
      "cell_type": "code",
      "metadata": {
        "colab": {
          "base_uri": "https://localhost:8080/"
        },
        "id": "BqABtZJdCBdq",
        "outputId": "400018b4-bc6f-4979-bb78-7eef610cd6ff"
      },
      "source": [
        "#4.-Construir una tabla que muestre cuántas medallas obtuvieron los hombres en total en cada año que se realizó el evento.\n",
        "\n",
        "# Primero genere una copia del dataframe original y le inserte la serie de tiempo creada en el punto 1\n",
        "\n",
        "#df_punto4 = df_tarea_baigorria.copy()\n",
        "#df_punto4.insert(1,\"Year_Serie\", series_tiempo_orig, True)\n",
        "#df_punto4\n",
        "\n",
        "# Segundo filtro a los hombres de la tabla copiada.\n",
        "\n",
        "df_punto4filtrado = df_punto4[df_punto4.Gender == 'Men']\n",
        "\n",
        "#\n",
        "df_punto4bis = df_punto4filtrado.groupby('Year_Serie')['Medal'].count()\n",
        "\n",
        "print(\"Medallas ganadas por hombres a lo largo de los años: \\n\")\n",
        "df_punto4bis\n",
        "\n"
      ],
      "execution_count": null,
      "outputs": [
        {
          "output_type": "stream",
          "name": "stdout",
          "text": [
            "Medallas ganadas por hombres a lo largo de los años: \n",
            "\n"
          ]
        },
        {
          "output_type": "execute_result",
          "data": {
            "text/plain": [
              "Year_Serie\n",
              "1976-01-01     924\n",
              "1980-01-01     958\n",
              "1984-01-01     973\n",
              "1988-01-01    1011\n",
              "1992-01-01    1105\n",
              "1996-01-01    1082\n",
              "2000-01-01    1126\n",
              "2004-01-01    1099\n",
              "2008-01-01    1110\n",
              "Name: Medal, dtype: int64"
            ]
          },
          "metadata": {},
          "execution_count": 171
        }
      ]
    }
  ]
}