{
  "nbformat": 4,
  "nbformat_minor": 5,
  "metadata": {
    "kernelspec": {
      "display_name": "Python 3",
      "language": "python",
      "name": "python3"
    },
    "language_info": {
      "codemirror_mode": {
        "name": "ipython",
        "version": 3
      },
      "file_extension": ".py",
      "mimetype": "text/x-python",
      "name": "python",
      "nbconvert_exporter": "python",
      "pygments_lexer": "ipython3",
      "version": "3.8.8"
    },
    "colab": {
      "name": "1. Funciones Baigorria.ipynb",
      "provenance": [],
      "collapsed_sections": [],
      "include_colab_link": true
    }
  },
  "cells": [
    {
      "cell_type": "markdown",
      "metadata": {
        "id": "view-in-github",
        "colab_type": "text"
      },
      "source": [
        "<a href=\"https://colab.research.google.com/github/Datebi/Python-Practice/blob/Datebi-CoderhouseCoursePractice/1_Funciones_Baigorria.ipynb\" target=\"_parent\"><img src=\"https://colab.research.google.com/assets/colab-badge.svg\" alt=\"Open In Colab\"/></a>"
      ]
    },
    {
      "cell_type": "markdown",
      "metadata": {
        "id": "Fo1tNXj79183"
      },
      "source": [
        "Tarea \n",
        ">> Consigna: \n",
        "Escribir una función para calcular el factorial de un número cualquiera.\n",
        "Escribir una función para calcular la suma de una serie comenzando por un número cualquiera y terminando en otro número que debe ser mayor al primero.\n",
        "\n",
        ">>Aspectos a incluir en el entregable:\n",
        "El código debe estar hecho en un notebook y debe estar probado.\n",
        "Incluir una prueba que demuestre que el código funciona."
      ],
      "id": "Fo1tNXj79183"
    },
    {
      "cell_type": "code",
      "metadata": {
        "id": "7c23733a-c9a4-4542-b6d4-1e4863b5520e"
      },
      "source": [
        "#>>> 1.\n",
        "\n",
        "\n",
        "def tarea(x):\n",
        "    fact=x\n",
        "    for i in range (1,x):\n",
        "            fact *= i\n",
        "    return fact\n",
        "\n"
      ],
      "id": "7c23733a-c9a4-4542-b6d4-1e4863b5520e",
      "execution_count": null,
      "outputs": []
    },
    {
      "cell_type": "code",
      "metadata": {
        "colab": {
          "base_uri": "https://localhost:8080/"
        },
        "id": "6a17b949-acf8-4b47-bba2-16bf4158899b",
        "outputId": "c12b4594-141f-4dec-db7b-b005f17ed0b9"
      },
      "source": [
        "tarea(5)"
      ],
      "id": "6a17b949-acf8-4b47-bba2-16bf4158899b",
      "execution_count": null,
      "outputs": [
        {
          "output_type": "execute_result",
          "data": {
            "text/plain": [
              "120"
            ]
          },
          "metadata": {},
          "execution_count": 3
        }
      ]
    },
    {
      "cell_type": "code",
      "metadata": {
        "id": "867ac383-adfe-4e7f-bbf7-b60c4f8cba6c"
      },
      "source": [
        "#>>> 2.\n",
        "\n",
        "def tarea2(x,y):\n",
        "    suma = 1\n",
        "    if y<x:\n",
        "        return print('error, debe ingresar un segundo valor que sea mayor al primero')\n",
        "    else:\n",
        "      for i in range(x,y):\n",
        "                suma += x + i\n",
        "      return suma"
      ],
      "id": "867ac383-adfe-4e7f-bbf7-b60c4f8cba6c",
      "execution_count": null,
      "outputs": []
    },
    {
      "cell_type": "code",
      "metadata": {
        "colab": {
          "base_uri": "https://localhost:8080/"
        },
        "id": "0a423634-ffd4-4d76-97c8-97a7cd02a34c",
        "outputId": "70743e98-ce49-445e-c9ad-efdc5fd4cf39"
      },
      "source": [
        "tarea2 (1,4)"
      ],
      "id": "0a423634-ffd4-4d76-97c8-97a7cd02a34c",
      "execution_count": null,
      "outputs": [
        {
          "output_type": "execute_result",
          "data": {
            "text/plain": [
              "10"
            ]
          },
          "metadata": {},
          "execution_count": 9
        }
      ]
    }
  ]
}